{
  "nbformat": 4,
  "nbformat_minor": 0,
  "metadata": {
    "colab": {
      "provenance": []
    },
    "kernelspec": {
      "name": "python3",
      "display_name": "Python 3"
    },
    "language_info": {
      "name": "python"
    }
  },
  "cells": [
    {
      "cell_type": "code",
      "execution_count": 3,
      "metadata": {
        "colab": {
          "base_uri": "https://localhost:8080/"
        },
        "id": "Rn_fNDiZPO95",
        "outputId": "e3a7fa82-246b-4031-9263-6b2f98f0b11c"
      },
      "outputs": [
        {
          "output_type": "stream",
          "name": "stdout",
          "text": [
            "Dataset URL: https://www.kaggle.com/datasets/caiojs/mnist-as-images-train-and-test\n",
            "License(s): DbCL-1.0\n",
            "Downloading mnist-as-images-train-and-test.zip to /content\n",
            " 93% 45.0M/48.6M [00:00<00:00, 241MB/s]\n",
            "100% 48.6M/48.6M [00:00<00:00, 236MB/s]\n"
          ]
        }
      ],
      "source": [
        "!kaggle datasets download -d caiojs/mnist-as-images-train-and-test"
      ]
    },
    {
      "cell_type": "code",
      "source": [
        "!unzip /content/mnist-as-images-train-and-test.zip"
      ],
      "metadata": {
        "id": "sl3Ymy1SPgUh"
      },
      "execution_count": null,
      "outputs": []
    },
    {
      "cell_type": "code",
      "source": [
        "!pip install keras"
      ],
      "metadata": {
        "colab": {
          "base_uri": "https://localhost:8080/"
        },
        "id": "KwHWxl4PTv1V",
        "outputId": "7d003c95-6d81-4204-e0d5-5bf0de90f8bd"
      },
      "execution_count": 8,
      "outputs": [
        {
          "output_type": "stream",
          "name": "stdout",
          "text": [
            "Requirement already satisfied: keras in /usr/local/lib/python3.10/dist-packages (3.4.1)\n",
            "Requirement already satisfied: absl-py in /usr/local/lib/python3.10/dist-packages (from keras) (1.4.0)\n",
            "Requirement already satisfied: numpy in /usr/local/lib/python3.10/dist-packages (from keras) (1.26.4)\n",
            "Requirement already satisfied: rich in /usr/local/lib/python3.10/dist-packages (from keras) (13.9.2)\n",
            "Requirement already satisfied: namex in /usr/local/lib/python3.10/dist-packages (from keras) (0.0.8)\n",
            "Requirement already satisfied: h5py in /usr/local/lib/python3.10/dist-packages (from keras) (3.11.0)\n",
            "Requirement already satisfied: optree in /usr/local/lib/python3.10/dist-packages (from keras) (0.13.0)\n",
            "Requirement already satisfied: ml-dtypes in /usr/local/lib/python3.10/dist-packages (from keras) (0.4.1)\n",
            "Requirement already satisfied: packaging in /usr/local/lib/python3.10/dist-packages (from keras) (24.1)\n",
            "Requirement already satisfied: typing-extensions>=4.5.0 in /usr/local/lib/python3.10/dist-packages (from optree->keras) (4.12.2)\n",
            "Requirement already satisfied: markdown-it-py>=2.2.0 in /usr/local/lib/python3.10/dist-packages (from rich->keras) (3.0.0)\n",
            "Requirement already satisfied: pygments<3.0.0,>=2.13.0 in /usr/local/lib/python3.10/dist-packages (from rich->keras) (2.18.0)\n",
            "Requirement already satisfied: mdurl~=0.1 in /usr/local/lib/python3.10/dist-packages (from markdown-it-py>=2.2.0->rich->keras) (0.1.2)\n"
          ]
        }
      ]
    },
    {
      "cell_type": "code",
      "source": [
        "import pandas as pd #base de manipulação de dados em formato de dataset\n",
        "import os #biblioteca de interação com o sistema operacional\n",
        "import numpy as np #manipular valores e operação numéricas (arrays)\n",
        "import seaborn as sns #biblioteca de visualização de dados\n",
        "import matplotlib.pyplot as plt #biblioteca de visualização de dados\n",
        "from tqdm import tqdm\n",
        "\n",
        "#Bibliotecas para trabalhar com imagens\n",
        "import cv2 #open cv(visão computacional) processa imagens e vídeos\n",
        "from PIL import Image #Pillow (image) manipular arquivos de imagem\n",
        "\n",
        "#Bibliotecas para trabalhar com deep learning\n",
        "from sklearn.model_selection import train_test_split\n",
        "from sklearn.metrics import confusion_matrix\n",
        "from keras.models import Sequential\n",
        "from keras.layers import Dense, Dropout, Flatten, MaxPool2D, Conv2D\n",
        "from keras.optimizers import Adam\n",
        "from keras.utils import to_categorical\n",
        "from keras.callbacks import ReduceLROnPlateau"
      ],
      "metadata": {
        "id": "VWaq_WMVPq_R"
      },
      "execution_count": 37,
      "outputs": []
    },
    {
      "cell_type": "markdown",
      "source": [
        "## Entendimento dos Dados"
      ],
      "metadata": {
        "id": "LQm2N4ugge5Q"
      }
    },
    {
      "cell_type": "code",
      "source": [
        "imgPIL = Image.open('/content/test_images/0/10.jpg')"
      ],
      "metadata": {
        "id": "wj1Whyw7QYA2"
      },
      "execution_count": 90,
      "outputs": []
    },
    {
      "cell_type": "code",
      "source": [
        "imgPIL"
      ],
      "metadata": {
        "colab": {
          "base_uri": "https://localhost:8080/",
          "height": 45
        },
        "id": "xuZ6jGjTUa4f",
        "outputId": "484ef20c-66d4-4e3b-c680-a10d809f232f"
      },
      "execution_count": 91,
      "outputs": [
        {
          "output_type": "execute_result",
          "data": {
            "text/plain": [
              "<PIL.JpegImagePlugin.JpegImageFile image mode=L size=28x28>"
            ],
            "image/png": "[encoded data removed]",
            "image/jpeg": "[encoded data removed]"
          },
          "metadata": {},
          "execution_count": 91
        }
      ]
    },
    {
      "cell_type": "code",
      "source": [
        "imgPIL = imgPIL.resize((280,280))\n",
        "imgPIL"
      ],
      "metadata": {
        "colab": {
          "base_uri": "https://localhost:8080/",
          "height": 297
        },
        "id": "fDQ1XZNgUcGs",
        "outputId": "69eefc9a-11f6-44f7-b137-40d8b8cd7343"
      },
      "execution_count": 92,
      "outputs": [
        {
          "output_type": "execute_result",
          "data": {
            "text/plain": [
              "<PIL.Image.Image image mode=L size=280x280>"
            ],
            "image/png": "[encoded data removed]",
            "image/jpeg": "[encoded data removed]"
          },
          "metadata": {},
          "execution_count": 92
        }
      ]
    },
    {
      "cell_type": "code",
      "source": [
        "imgCV = cv2.imread('/content/test_images/3/1020.jpg')\n",
        "imgCV = cv2.resize(imgCV, (28,28))\n",
        "print(imgCV)"
      ],
      "metadata": {
        "colab": {
          "base_uri": "https://localhost:8080/"
        },
        "id": "zEVk40VBUkbT",
        "outputId": "82607c73-5e22-49da-d093-5457d2e6f20d"
      },
      "execution_count": 38,
      "outputs": [
        {
          "output_type": "stream",
          "name": "stdout",
          "text": [
            "[[[1 1 1]\n",
            "  [0 0 0]\n",
            "  [0 0 0]\n",
            "  ...\n",
            "  [0 0 0]\n",
            "  [0 0 0]\n",
            "  [0 0 0]]\n",
            "\n",
            " [[3 3 3]\n",
            "  [0 0 0]\n",
            "  [2 2 2]\n",
            "  ...\n",
            "  [0 0 0]\n",
            "  [0 0 0]\n",
            "  [0 0 0]]\n",
            "\n",
            " [[1 1 1]\n",
            "  [0 0 0]\n",
            "  [0 0 0]\n",
            "  ...\n",
            "  [0 0 0]\n",
            "  [0 0 0]\n",
            "  [0 0 0]]\n",
            "\n",
            " ...\n",
            "\n",
            " [[0 0 0]\n",
            "  [0 0 0]\n",
            "  [0 0 0]\n",
            "  ...\n",
            "  [0 0 0]\n",
            "  [0 0 0]\n",
            "  [0 0 0]]\n",
            "\n",
            " [[0 0 0]\n",
            "  [0 0 0]\n",
            "  [0 0 0]\n",
            "  ...\n",
            "  [0 0 0]\n",
            "  [0 0 0]\n",
            "  [0 0 0]]\n",
            "\n",
            " [[0 0 0]\n",
            "  [0 0 0]\n",
            "  [0 0 0]\n",
            "  ...\n",
            "  [0 0 0]\n",
            "  [0 0 0]\n",
            "  [0 0 0]]]\n"
          ]
        }
      ]
    },
    {
      "cell_type": "code",
      "source": [
        "plt.imshow(imgCV)\n"
      ],
      "metadata": {
        "colab": {
          "base_uri": "https://localhost:8080/",
          "height": 447
        },
        "id": "GefXlbhLU7vs",
        "outputId": "7d8a9263-78ae-42ab-86b5-3a3abfce10c2"
      },
      "execution_count": 39,
      "outputs": [
        {
          "output_type": "execute_result",
          "data": {
            "text/plain": [
              "<matplotlib.image.AxesImage at 0x7f2f5c9be350>"
            ]
          },
          "metadata": {},
          "execution_count": 39
        },
        {
          "output_type": "display_data",
          "data": {
            "text/plain": [
              "<Figure size 640x480 with 1 Axes>"
            ],
            "image/png": "[encoded data removed]"
          },
          "metadata": {}
        }
      ]
    },
    {
      "cell_type": "code",
      "source": [
        "imgCV.shape"
      ],
      "metadata": {
        "colab": {
          "base_uri": "https://localhost:8080/"
        },
        "id": "yGJ7SIolVfUR",
        "outputId": "0d6556e5-40c3-4cc9-d97f-3fba80398661"
      },
      "execution_count": 40,
      "outputs": [
        {
          "output_type": "execute_result",
          "data": {
            "text/plain": [
              "(28, 28, 3)"
            ]
          },
          "metadata": {},
          "execution_count": 40
        }
      ]
    },
    {
      "cell_type": "code",
      "source": [
        "imgCV = cv2.cvtColor(imgCV, cv2.COLOR_BGR2GRAY)\n",
        "imgCV"
      ],
      "metadata": {
        "colab": {
          "base_uri": "https://localhost:8080/",
          "height": 69
        },
        "id": "bdEK-Y6QVkgE",
        "outputId": "4478c711-8cba-4e10-d606-e8ca06a386f3"
      },
      "execution_count": 41,
      "outputs": [
        {
          "output_type": "execute_result",
          "data": {
            "text/plain": [
              "array([[  1,   0,   0,   1,   0,   1,   4,   0,   5,   0,   7,   1,   0,\n",
              "          3,   0,   8,   4,   0,   1,   0,   0,   6,   0,   1,   0,   0,\n",
              "          0,   0],\n",
              "       [  3,   0,   2,   2,   0,   0,   0,   0,   0,   0,   0,   2,   5,\n",
              "          0,   0,   0,   2,   0,   5,   7,   2,   0,   0,   3,   0,   0,\n",
              "          0,   0],\n",
              "       [  1,   0,   0,   0,   0,   0,   0,   0,   0,   3,  12,   0,   0,\n",
              "         12,   0,   0,   0,   2,   0,   1,   6,   0,   0,   5,   0,   0,\n",
              "          0,   0],\n",
              "       [  1,   0,   0,   0,   1,   4,   1,   1,   0,   0,  13,   0,   0,\n",
              "          6,   0,  13,   0,   8,   0,   0,   7,   3,   4,   0,   0,   0,\n",
              "          0,   0],\n",
              "       [  4,   3,   0,   0,  11,   2,   0,   0,   3,  19,   0,   7,   8,\n",
              "          0,   7,   0,   0,   8,   2,   0,   3,   5,   2,   0,   0,   0,\n",
              "          0,   0],\n",
              "       [  0,   2,   0,   2,   7,   0,   0,  30,  83, 127, 255, 254, 251,\n",
              "        255,  88,   0,   2,   0,   6,   4,   0,   1,   0,   1,   0,   0,\n",
              "          0,   0],\n",
              "       [  0,   2,   0,   0,   0,   0,  49, 146, 253, 255, 219, 210, 199,\n",
              "        221, 251, 161,  75,   0,   0,   2,   0,   5,   0,   8,   0,   0,\n",
              "          0,   0],\n",
              "       [  0,   7,   3,   0,   0,  14, 122, 255, 223,  63,  18,   9,   0,\n",
              "         43, 128, 227, 181,  15,   0,   2,   0,  14,   0,   4,   0,   0,\n",
              "          0,   0],\n",
              "       [  0,   5,   0,   2,   6,   0,  72, 232, 186,   0,  17,   0,   0,\n",
              "          3,   1, 148, 209,   7,  18,   0,   5,   0,   2,   0,   0,   0,\n",
              "          0,   0],\n",
              "       [  1,  11,   0,   0,   6,   0,   0,  32,  18,  12,   0,   0,   5,\n",
              "          0,   1, 174, 255,  33,   9,   3,   0,  16,   7,  14,   0,   0,\n",
              "          0,   0],\n",
              "       [  0,   5,   0,   0,  11,  13,   0,   0,   4,   0,  13,   0,  12,\n",
              "          0,   0, 153, 255,  46,   0,   4,   0,   0,   0,   0,   0,   0,\n",
              "          0,   0],\n",
              "       [  5,   0,   0,   4,   0,   0,   1,   8,   0,   2,   0,   4,   0,\n",
              "          8,   4, 197, 202,  12,  15,   2,   5,   0,   2,   9,   0,   0,\n",
              "          0,   0],\n",
              "       [ 14,   0,   0,   6,   0,   0,   0,   0,   0,   0,  13,   1,   0,\n",
              "          0, 179, 240, 164,   0,  13,   0,   0,  21,   0,   1,   0,   0,\n",
              "          0,   0],\n",
              "       [  0,   0,   1,   2,   0,   9,  13,   3,   9,   4,   0,   0,   6,\n",
              "        138, 255, 255,  53,  16,   0,  15,   2,   0,   0,   2,   0,   0,\n",
              "          0,   0],\n",
              "       [  0,   6,   7,   0,   0,   0,   0,   0,   0,   1,  20,  14, 163,\n",
              "        245, 233, 255, 255, 216,  23,   0,   0,   0,  24,   0,   0,   0,\n",
              "          0,   0],\n",
              "       [  0,   2,   0,   0,   9,   8,   0,   0,   4,   0, 105, 255, 252,\n",
              "        247, 255, 220, 229, 255, 246, 134,  69,   5,   0,  10,   0,   0,\n",
              "          0,   0],\n",
              "       [  0,   0,   0,   0,   0,   0,   0,   0,   0,   5, 148, 243, 162,\n",
              "         87,   7,   0,  27,  89, 221, 248, 199,  15,   0,   6,   0,   0,\n",
              "          0,   0],\n",
              "       [  0,   0,   0,   0,   0,   0,   0,   0,   0,   0,  16,  44,   4,\n",
              "          8,   0,   5,   7,   0,  32, 186, 227,   5,   1,   0,   0,   0,\n",
              "          0,   0],\n",
              "       [  0,   0,   0,   0,   0,   0,   0,   0,  16,  10,   3,   6,   0,\n",
              "          2,   0,   0,   0,   0,   0, 137, 245,  74,   6,   1,   0,   0,\n",
              "          0,   0],\n",
              "       [  0,   0,   0,   0,   0,   0,   0,   0,   0,   0,   0,   2,  12,\n",
              "          0,   0,   6,   4,   6,   9, 132, 242,  86,   0,   4,   0,   0,\n",
              "          0,   0],\n",
              "       [  0,   0,   0,   0,   0,   0,   0,   0,   2,  13,   0,   0,  10,\n",
              "          0,   0,   8,   8,   0,   0, 202, 216,   5,   0,   3,   0,   0,\n",
              "          0,   0],\n",
              "       [  0,   0,   0,   0,   0,   0,   0,   0,   0,   0,   7,   0,   0,\n",
              "          0,   6,   0,   0,  15, 146, 255, 115,   0,  12,   4,   0,   0,\n",
              "          0,   0],\n",
              "       [  0,   0,   0,   0,   0,   0,   0,   0,  11,   0,  55,  39,  11,\n",
              "          3,   6,   0,  60, 138, 255, 192,   6,   0,   8,   0,   0,   0,\n",
              "          0,   0],\n",
              "       [  0,   0,   0,   0,   0,   0,   0,   0,   0,   2, 166, 234, 218,\n",
              "        197, 204, 213, 232, 255, 171,  75,   0,   4,   4,   0,   0,   0,\n",
              "          0,   0],\n",
              "       [  0,   0,   0,   0,   0,   0,   0,   0,   0,   0,  56, 202, 255,\n",
              "        255, 238, 255, 225, 126,  26,   0,   1,   6,   1,   0,   0,   0,\n",
              "          0,   0],\n",
              "       [  0,   0,   0,   0,   0,   0,   0,   0,  20,   7,   0,   9,   4,\n",
              "          7,   0,   0,  11,   0,   0,   5,   6,   0,   0,   5,   0,   0,\n",
              "          0,   0],\n",
              "       [  0,   0,   0,   0,   0,   0,   0,   0,   0,   0,   0,   0,   0,\n",
              "         11,   4,   0,   0,   0,   0,   0,   0,   0,   0,   7,   0,   0,\n",
              "          0,   0],\n",
              "       [  0,   0,   0,   0,   0,   0,   0,   0,   2,   6,   5,   5,   0,\n",
              "          1,   0,   0,   9,   6,   1,   0,   3,   6,   0,   0,   0,   0,\n",
              "          0,   0]], dtype=uint8)"
            ],
            "text/html": [
              "<style>\n",
              "      .ndarray_repr .ndarray_raw_data {\n",
              "        display: none;\n",
              "      }\n",
              "      .ndarray_repr.show_array .ndarray_raw_data {\n",
              "        display: block;\n",
              "      }\n",
              "      .ndarray_repr.show_array .ndarray_image_preview {\n",
              "        display: none;\n",
              "      }\n",
              "      </style>\n",
              "      <div id=\"id-0a632de2-57e4-4b38-ae6e-df5d6d370298\" class=\"ndarray_repr\"><pre>ndarray (28, 28) <button style=\"padding: 0 2px;\">show data</button></pre><img src=\"data:image/png;base64,iVBORw0KGgoAAAANSUhEUgAAABwAAAAcCAAAAABXZoBIAAABxUlEQVR4nF2SO2tUURSFv73P6965jxknkYiCxMpCGwvRQrBREC0t1J9gZWFnoVaCKUN+gI+UYiM2qWwkMJ1WAQ0qQVACMsSM0ZlMjsXce3VmlWetc9ba62wEBLE4gmBILAIeAcCgygTqAMUFBQNQSQCTQw4o4sEBKIBYEcYCQwo8UYwdAWANZApmjpAQIFGMa5zQAMevP4gHo3gTxVukdlOAM8vj+OH9+ubo6TVQHMmEDAbKe/HTxW7KqYdbr9soJXZCOtRz5dsah8DIyrvQxVF5SgYeFrs5OORlPJEaOqEE0DgEV/B5Z7cgELcp9oT+n53qVSxIgmJJ7Nte3laHpgCU4CcGhcCr/ioFHG6KEyUtTGrBL8V4tkNbqRP5UGnmy+eD7zFuLABHmoZIE7Dcjvt78ePX+OvRZUeLKbiVn89uBI7d2vy93q5zNOictgkusLi25WSGahlfxXg8uOoFqDuEPsR8F3+gZjTOh3b//5taQAuSBHobrlqTfwiAh/ZyvEtup6iMcycz47mwFN/46jsbxUDvXOpvh3Ru4cWTGUeA870Yf8Qv948ifmaU+UBqA2Tg6tWcRta4hKlz9c4hkHrBVOX9BQVsZQbEJFuTAAAAAElFTkSuQmCC\" class=\"ndarray_image_preview\" /><pre class=\"ndarray_raw_data\">array([[  1,   0,   0,   1,   0,   1,   4,   0,   5,   0,   7,   1,   0,\n",
              "          3,   0,   8,   4,   0,   1,   0,   0,   6,   0,   1,   0,   0,\n",
              "          0,   0],\n",
              "       [  3,   0,   2,   2,   0,   0,   0,   0,   0,   0,   0,   2,   5,\n",
              "          0,   0,   0,   2,   0,   5,   7,   2,   0,   0,   3,   0,   0,\n",
              "          0,   0],\n",
              "       [  1,   0,   0,   0,   0,   0,   0,   0,   0,   3,  12,   0,   0,\n",
              "         12,   0,   0,   0,   2,   0,   1,   6,   0,   0,   5,   0,   0,\n",
              "          0,   0],\n",
              "       [  1,   0,   0,   0,   1,   4,   1,   1,   0,   0,  13,   0,   0,\n",
              "          6,   0,  13,   0,   8,   0,   0,   7,   3,   4,   0,   0,   0,\n",
              "          0,   0],\n",
              "       [  4,   3,   0,   0,  11,   2,   0,   0,   3,  19,   0,   7,   8,\n",
              "          0,   7,   0,   0,   8,   2,   0,   3,   5,   2,   0,   0,   0,\n",
              "          0,   0],\n",
              "       [  0,   2,   0,   2,   7,   0,   0,  30,  83, 127, 255, 254, 251,\n",
              "        255,  88,   0,   2,   0,   6,   4,   0,   1,   0,   1,   0,   0,\n",
              "          0,   0],\n",
              "       [  0,   2,   0,   0,   0,   0,  49, 146, 253, 255, 219, 210, 199,\n",
              "        221, 251, 161,  75,   0,   0,   2,   0,   5,   0,   8,   0,   0,\n",
              "          0,   0],\n",
              "       [  0,   7,   3,   0,   0,  14, 122, 255, 223,  63,  18,   9,   0,\n",
              "         43, 128, 227, 181,  15,   0,   2,   0,  14,   0,   4,   0,   0,\n",
              "          0,   0],\n",
              "       [  0,   5,   0,   2,   6,   0,  72, 232, 186,   0,  17,   0,   0,\n",
              "          3,   1, 148, 209,   7,  18,   0,   5,   0,   2,   0,   0,   0,\n",
              "          0,   0],\n",
              "       [  1,  11,   0,   0,   6,   0,   0,  32,  18,  12,   0,   0,   5,\n",
              "          0,   1, 174, 255,  33,   9,   3,   0,  16,   7,  14,   0,   0,\n",
              "          0,   0],\n",
              "       [  0,   5,   0,   0,  11,  13,   0,   0,   4,   0,  13,   0,  12,\n",
              "          0,   0, 153, 255,  46,   0,   4,   0,   0,   0,   0,   0,   0,\n",
              "          0,   0],\n",
              "       [  5,   0,   0,   4,   0,   0,   1,   8,   0,   2,   0,   4,   0,\n",
              "          8,   4, 197, 202,  12,  15,   2,   5,   0,   2,   9,   0,   0,\n",
              "          0,   0],\n",
              "       [ 14,   0,   0,   6,   0,   0,   0,   0,   0,   0,  13,   1,   0,\n",
              "          0, 179, 240, 164,   0,  13,   0,   0,  21,   0,   1,   0,   0,\n",
              "          0,   0],\n",
              "       [  0,   0,   1,   2,   0,   9,  13,   3,   9,   4,   0,   0,   6,\n",
              "        138, 255, 255,  53,  16,   0,  15,   2,   0,   0,   2,   0,   0,\n",
              "          0,   0],\n",
              "       [  0,   6,   7,   0,   0,   0,   0,   0,   0,   1,  20,  14, 163,\n",
              "        245, 233, 255, 255, 216,  23,   0,   0,   0,  24,   0,   0,   0,\n",
              "          0,   0],\n",
              "       [  0,   2,   0,   0,   9,   8,   0,   0,   4,   0, 105, 255, 252,\n",
              "        247, 255, 220, 229, 255, 246, 134,  69,   5,   0,  10,   0,   0,\n",
              "          0,   0],\n",
              "       [  0,   0,   0,   0,   0,   0,   0,   0,   0,   5, 148, 243, 162,\n",
              "         87,   7,   0,  27,  89, 221, 248, 199,  15,   0,   6,   0,   0,\n",
              "          0,   0],\n",
              "       [  0,   0,   0,   0,   0,   0,   0,   0,   0,   0,  16,  44,   4,\n",
              "          8,   0,   5,   7,   0,  32, 186, 227,   5,   1,   0,   0,   0,\n",
              "          0,   0],\n",
              "       [  0,   0,   0,   0,   0,   0,   0,   0,  16,  10,   3,   6,   0,\n",
              "          2,   0,   0,   0,   0,   0, 137, 245,  74,   6,   1,   0,   0,\n",
              "          0,   0],\n",
              "       [  0,   0,   0,   0,   0,   0,   0,   0,   0,   0,   0,   2,  12,\n",
              "          0,   0,   6,   4,   6,   9, 132, 242,  86,   0,   4,   0,   0,\n",
              "          0,   0],\n",
              "       [  0,   0,   0,   0,   0,   0,   0,   0,   2,  13,   0,   0,  10,\n",
              "          0,   0,   8,   8,   0,   0, 202, 216,   5,   0,   3,   0,   0,\n",
              "          0,   0],\n",
              "       [  0,   0,   0,   0,   0,   0,   0,   0,   0,   0,   7,   0,   0,\n",
              "          0,   6,   0,   0,  15, 146, 255, 115,   0,  12,   4,   0,   0,\n",
              "          0,   0],\n",
              "       [  0,   0,   0,   0,   0,   0,   0,   0,  11,   0,  55,  39,  11,\n",
              "          3,   6,   0,  60, 138, 255, 192,   6,   0,   8,   0,   0,   0,\n",
              "          0,   0],\n",
              "       [  0,   0,   0,   0,   0,   0,   0,   0,   0,   2, 166, 234, 218,\n",
              "        197, 204, 213, 232, 255, 171,  75,   0,   4,   4,   0,   0,   0,\n",
              "          0,   0],\n",
              "       [  0,   0,   0,   0,   0,   0,   0,   0,   0,   0,  56, 202, 255,\n",
              "        255, 238, 255, 225, 126,  26,   0,   1,   6,   1,   0,   0,   0,\n",
              "          0,   0],\n",
              "       [  0,   0,   0,   0,   0,   0,   0,   0,  20,   7,   0,   9,   4,\n",
              "          7,   0,   0,  11,   0,   0,   5,   6,   0,   0,   5,   0,   0,\n",
              "          0,   0],\n",
              "       [  0,   0,   0,   0,   0,   0,   0,   0,   0,   0,   0,   0,   0,\n",
              "         11,   4,   0,   0,   0,   0,   0,   0,   0,   0,   7,   0,   0,\n",
              "          0,   0],\n",
              "       [  0,   0,   0,   0,   0,   0,   0,   0,   2,   6,   5,   5,   0,\n",
              "          1,   0,   0,   9,   6,   1,   0,   3,   6,   0,   0,   0,   0,\n",
              "          0,   0]], dtype=uint8)</pre></div><script>\n",
              "      (() => {\n",
              "      const titles = ['show data', 'hide data'];\n",
              "      let index = 0\n",
              "      document.querySelector('#id-0a632de2-57e4-4b38-ae6e-df5d6d370298 button').onclick = (e) => {\n",
              "        document.querySelector('#id-0a632de2-57e4-4b38-ae6e-df5d6d370298').classList.toggle('show_array');\n",
              "        index = (++index) % 2;\n",
              "        document.querySelector('#id-0a632de2-57e4-4b38-ae6e-df5d6d370298 button').textContent = titles[index];\n",
              "        e.preventDefault();\n",
              "        e.stopPropagation();\n",
              "      }\n",
              "      })();\n",
              "    </script>"
            ]
          },
          "metadata": {},
          "execution_count": 41
        }
      ]
    },
    {
      "cell_type": "code",
      "source": [
        "plt.imshow(imgCV)"
      ],
      "metadata": {
        "colab": {
          "base_uri": "https://localhost:8080/",
          "height": 447
        },
        "id": "a0ip-uOcV5-V",
        "outputId": "d7c00e60-3328-4d01-f0af-66230e5ad30c"
      },
      "execution_count": 44,
      "outputs": [
        {
          "output_type": "execute_result",
          "data": {
            "text/plain": [
              "<matplotlib.image.AxesImage at 0x7f2f5ca7f3a0>"
            ]
          },
          "metadata": {},
          "execution_count": 44
        },
        {
          "output_type": "display_data",
          "data": {
            "text/plain": [
              "<Figure size 640x480 with 1 Axes>"
            ],
            "image/png": "[encoded data removed]"
          },
          "metadata": {}
        }
      ]
    },
    {
      "cell_type": "code",
      "source": [
        "imgPIL = np.array(imgPIL)\n",
        "imgPIL.shape"
      ],
      "metadata": {
        "colab": {
          "base_uri": "https://localhost:8080/"
        },
        "id": "R7Sg2_mhWYk5",
        "outputId": "a1a0b753-d2d6-40bb-8f88-89c844a3b49c"
      },
      "execution_count": 53,
      "outputs": [
        {
          "output_type": "execute_result",
          "data": {
            "text/plain": [
              "(28, 28)"
            ]
          },
          "metadata": {},
          "execution_count": 53
        }
      ]
    },
    {
      "cell_type": "code",
      "source": [
        "plt.imshow(imgPIL)"
      ],
      "metadata": {
        "colab": {
          "base_uri": "https://localhost:8080/",
          "height": 447
        },
        "id": "INgf46ZKWfdP",
        "outputId": "ac7416ba-ea08-4caa-a38a-ae780db100c8"
      },
      "execution_count": 54,
      "outputs": [
        {
          "output_type": "execute_result",
          "data": {
            "text/plain": [
              "<matplotlib.image.AxesImage at 0x7f2f5cad9d50>"
            ]
          },
          "metadata": {},
          "execution_count": 54
        },
        {
          "output_type": "display_data",
          "data": {
            "text/plain": [
              "<Figure size 640x480 with 1 Axes>"
            ],
            "image/png": "[encoded data removed]"
          },
          "metadata": {}
        }
      ]
    },
    {
      "cell_type": "markdown",
      "source": [
        "## Preparação de dados\n"
      ],
      "metadata": {
        "id": "6JX2fXGAXBoJ"
      }
    },
    {
      "cell_type": "code",
      "source": [
        "class_names = ['0', '1', '2', '3', '4', '5', '6', '7', '8', '9']"
      ],
      "metadata": {
        "id": "WalNcpkrXDTW"
      },
      "execution_count": 55,
      "outputs": []
    },
    {
      "cell_type": "code",
      "source": [
        "def load_images_and_labels(folder):\n",
        "    data = {'image' : [], 'label': []}\n",
        "\n",
        "    for label in class_names:\n",
        "      path = os.path.join(folder, label)\n",
        "\n",
        "      for file in tqdm(os.listdir(path), desc=f'Loading {label}'):\n",
        "        img_path = os.path.join(path, file)\n",
        "        img = cv2.imread(img_path, cv2.IMREAD_GRAYSCALE)\n",
        "\n",
        "        if img is not None:\n",
        "          data['image'].append(img)\n",
        "          data['label'].append(label)\n",
        "\n",
        "    return pd.DataFrame(data)\n"
      ],
      "metadata": {
        "id": "Lglwb45EXjF7"
      },
      "execution_count": 75,
      "outputs": []
    },
    {
      "cell_type": "code",
      "source": [
        "df_train = load_images_and_labels('/content/train_images')\n"
      ],
      "metadata": {
        "colab": {
          "base_uri": "https://localhost:8080/"
        },
        "id": "Rv2OWT-KXofH",
        "outputId": "79725c2b-2ac4-437f-90cb-3fecc0b1ed03"
      },
      "execution_count": 76,
      "outputs": [
        {
          "output_type": "stream",
          "name": "stderr",
          "text": [
            "Loading 0: 100%|██████████| 5923/5923 [00:02<00:00, 1979.38it/s]\n",
            "Loading 1: 100%|██████████| 6742/6742 [00:03<00:00, 1934.60it/s]\n",
            "Loading 2: 100%|██████████| 5958/5958 [00:03<00:00, 1852.65it/s]\n",
            "Loading 3: 100%|██████████| 6131/6131 [00:02<00:00, 2163.29it/s]\n",
            "Loading 4: 100%|██████████| 5842/5842 [00:03<00:00, 1819.70it/s]\n",
            "Loading 5: 100%|██████████| 5421/5421 [00:03<00:00, 1759.08it/s]\n",
            "Loading 6: 100%|██████████| 5918/5918 [00:01<00:00, 5026.18it/s]\n",
            "Loading 7: 100%|██████████| 6265/6265 [00:01<00:00, 3732.80it/s]\n",
            "Loading 8: 100%|██████████| 5851/5851 [00:01<00:00, 5129.81it/s]\n",
            "Loading 9: 100%|██████████| 5949/5949 [00:01<00:00, 4553.98it/s]\n"
          ]
        }
      ]
    },
    {
      "cell_type": "code",
      "source": [
        "df_train.head()"
      ],
      "metadata": {
        "colab": {
          "base_uri": "https://localhost:8080/",
          "height": 206
        },
        "id": "ieHzhrUuZFGd",
        "outputId": "8a64937f-156d-4b88-b2f8-ef97cd1dc2cc"
      },
      "execution_count": 77,
      "outputs": [
        {
          "output_type": "execute_result",
          "data": {
            "text/plain": [
              "                                               image label\n",
              "0  [[0, 0, 0, 0, 0, 0, 0, 0, 0, 2, 1, 2, 2, 0, 0,...     0\n",
              "1  [[0, 0, 0, 0, 0, 0, 0, 0, 1, 2, 8, 0, 7, 5, 0,...     0\n",
              "2  [[0, 0, 0, 0, 0, 0, 0, 0, 8, 0, 1, 0, 0, 0, 15...     0\n",
              "3  [[0, 0, 0, 0, 0, 0, 0, 0, 8, 0, 0, 0, 1, 9, 8,...     0\n",
              "4  [[0, 0, 0, 0, 0, 0, 0, 0, 0, 4, 0, 4, 4, 0, 0,...     0"
            ],
            "text/html": [
              "\n",
              "  <div id=\"df-3d41654e-e0cf-48b1-8bea-86b69a02b4e2\" class=\"colab-df-container\">\n",
              "    <div>\n",
              "<style scoped>\n",
              "    .dataframe tbody tr th:only-of-type {\n",
              "        vertical-align: middle;\n",
              "    }\n",
              "\n",
              "    .dataframe tbody tr th {\n",
              "        vertical-align: top;\n",
              "    }\n",
              "\n",
              "    .dataframe thead th {\n",
              "        text-align: right;\n",
              "    }\n",
              "</style>\n",
              "<table border=\"1\" class=\"dataframe\">\n",
              "  <thead>\n",
              "    <tr style=\"text-align: right;\">\n",
              "      <th></th>\n",
              "      <th>image</th>\n",
              "      <th>label</th>\n",
              "    </tr>\n",
              "  </thead>\n",
              "  <tbody>\n",
              "    <tr>\n",
              "      <th>0</th>\n",
              "      <td>[[0, 0, 0, 0, 0, 0, 0, 0, 0, 2, 1, 2, 2, 0, 0,...</td>\n",
              "      <td>0</td>\n",
              "    </tr>\n",
              "    <tr>\n",
              "      <th>1</th>\n",
              "      <td>[[0, 0, 0, 0, 0, 0, 0, 0, 1, 2, 8, 0, 7, 5, 0,...</td>\n",
              "      <td>0</td>\n",
              "    </tr>\n",
              "    <tr>\n",
              "      <th>2</th>\n",
              "      <td>[[0, 0, 0, 0, 0, 0, 0, 0, 8, 0, 1, 0, 0, 0, 15...</td>\n",
              "      <td>0</td>\n",
              "    </tr>\n",
              "    <tr>\n",
              "      <th>3</th>\n",
              "      <td>[[0, 0, 0, 0, 0, 0, 0, 0, 8, 0, 0, 0, 1, 9, 8,...</td>\n",
              "      <td>0</td>\n",
              "    </tr>\n",
              "    <tr>\n",
              "      <th>4</th>\n",
              "      <td>[[0, 0, 0, 0, 0, 0, 0, 0, 0, 4, 0, 4, 4, 0, 0,...</td>\n",
              "      <td>0</td>\n",
              "    </tr>\n",
              "  </tbody>\n",
              "</table>\n",
              "</div>\n",
              "    <div class=\"colab-df-buttons\">\n",
              "\n",
              "  <div class=\"colab-df-container\">\n",
              "    <button class=\"colab-df-convert\" onclick=\"convertToInteractive('df-3d41654e-e0cf-48b1-8bea-86b69a02b4e2')\"\n",
              "            title=\"Convert this dataframe to an interactive table.\"\n",
              "            style=\"display:none;\">\n",
              "\n",
              "  <svg xmlns=\"http://www.w3.org/2000/svg\" height=\"24px\" viewBox=\"0 -960 960 960\">\n",
              "    <path d=\"M120-120v-720h720v720H120Zm60-500h600v-160H180v160Zm220 220h160v-160H400v160Zm0 220h160v-160H400v160ZM180-400h160v-160H180v160Zm440 0h160v-160H620v160ZM180-180h160v-160H180v160Zm440 0h160v-160H620v160Z\"/>\n",
              "  </svg>\n",
              "    </button>\n",
              "\n",
              "  <style>\n",
              "    .colab-df-container {\n",
              "      display:flex;\n",
              "      gap: 12px;\n",
              "    }\n",
              "\n",
              "    .colab-df-convert {\n",
              "      background-color: #E8F0FE;\n",
              "      border: none;\n",
              "      border-radius: 50%;\n",
              "      cursor: pointer;\n",
              "      display: none;\n",
              "      fill: #1967D2;\n",
              "      height: 32px;\n",
              "      padding: 0 0 0 0;\n",
              "      width: 32px;\n",
              "    }\n",
              "\n",
              "    .colab-df-convert:hover {\n",
              "      background-color: #E2EBFA;\n",
              "      box-shadow: 0px 1px 2px rgba(60, 64, 67, 0.3), 0px 1px 3px 1px rgba(60, 64, 67, 0.15);\n",
              "      fill: #174EA6;\n",
              "    }\n",
              "\n",
              "    .colab-df-buttons div {\n",
              "      margin-bottom: 4px;\n",
              "    }\n",
              "\n",
              "    [theme=dark] .colab-df-convert {\n",
              "      background-color: #3B4455;\n",
              "      fill: #D2E3FC;\n",
              "    }\n",
              "\n",
              "    [theme=dark] .colab-df-convert:hover {\n",
              "      background-color: #434B5C;\n",
              "      box-shadow: 0px 1px 3px 1px rgba(0, 0, 0, 0.15);\n",
              "      filter: drop-shadow(0px 1px 2px rgba(0, 0, 0, 0.3));\n",
              "      fill: #FFFFFF;\n",
              "    }\n",
              "  </style>\n",
              "\n",
              "    <script>\n",
              "      const buttonEl =\n",
              "        document.querySelector('#df-3d41654e-e0cf-48b1-8bea-86b69a02b4e2 button.colab-df-convert');\n",
              "      buttonEl.style.display =\n",
              "        google.colab.kernel.accessAllowed ? 'block' : 'none';\n",
              "\n",
              "      async function convertToInteractive(key) {\n",
              "        const element = document.querySelector('#df-3d41654e-e0cf-48b1-8bea-86b69a02b4e2');\n",
              "        const dataTable =\n",
              "          await google.colab.kernel.invokeFunction('convertToInteractive',\n",
              "                                                    [key], {});\n",
              "        if (!dataTable) return;\n",
              "\n",
              "        const docLinkHtml = 'Like what you see? Visit the ' +\n",
              "          '<a target=\"_blank\" href=https://colab.research.google.com/notebooks/data_table.ipynb>data table notebook</a>'\n",
              "          + ' to learn more about interactive tables.';\n",
              "        element.innerHTML = '';\n",
              "        dataTable['output_type'] = 'display_data';\n",
              "        await google.colab.output.renderOutput(dataTable, element);\n",
              "        const docLink = document.createElement('div');\n",
              "        docLink.innerHTML = docLinkHtml;\n",
              "        element.appendChild(docLink);\n",
              "      }\n",
              "    </script>\n",
              "  </div>\n",
              "\n",
              "\n",
              "<div id=\"df-85242b9a-7d5f-4539-9e21-a19616329657\">\n",
              "  <button class=\"colab-df-quickchart\" onclick=\"quickchart('df-85242b9a-7d5f-4539-9e21-a19616329657')\"\n",
              "            title=\"Suggest charts\"\n",
              "            style=\"display:none;\">\n",
              "\n",
              "<svg xmlns=\"http://www.w3.org/2000/svg\" height=\"24px\"viewBox=\"0 0 24 24\"\n",
              "     width=\"24px\">\n",
              "    <g>\n",
              "        <path d=\"M19 3H5c-1.1 0-2 .9-2 2v14c0 1.1.9 2 2 2h14c1.1 0 2-.9 2-2V5c0-1.1-.9-2-2-2zM9 17H7v-7h2v7zm4 0h-2V7h2v10zm4 0h-2v-4h2v4z\"/>\n",
              "    </g>\n",
              "</svg>\n",
              "  </button>\n",
              "\n",
              "<style>\n",
              "  .colab-df-quickchart {\n",
              "      --bg-color: #E8F0FE;\n",
              "      --fill-color: #1967D2;\n",
              "      --hover-bg-color: #E2EBFA;\n",
              "      --hover-fill-color: #174EA6;\n",
              "      --disabled-fill-color: #AAA;\n",
              "      --disabled-bg-color: #DDD;\n",
              "  }\n",
              "\n",
              "  [theme=dark] .colab-df-quickchart {\n",
              "      --bg-color: #3B4455;\n",
              "      --fill-color: #D2E3FC;\n",
              "      --hover-bg-color: #434B5C;\n",
              "      --hover-fill-color: #FFFFFF;\n",
              "      --disabled-bg-color: #3B4455;\n",
              "      --disabled-fill-color: #666;\n",
              "  }\n",
              "\n",
              "  .colab-df-quickchart {\n",
              "    background-color: var(--bg-color);\n",
              "    border: none;\n",
              "    border-radius: 50%;\n",
              "    cursor: pointer;\n",
              "    display: none;\n",
              "    fill: var(--fill-color);\n",
              "    height: 32px;\n",
              "    padding: 0;\n",
              "    width: 32px;\n",
              "  }\n",
              "\n",
              "  .colab-df-quickchart:hover {\n",
              "    background-color: var(--hover-bg-color);\n",
              "    box-shadow: 0 1px 2px rgba(60, 64, 67, 0.3), 0 1px 3px 1px rgba(60, 64, 67, 0.15);\n",
              "    fill: var(--button-hover-fill-color);\n",
              "  }\n",
              "\n",
              "  .colab-df-quickchart-complete:disabled,\n",
              "  .colab-df-quickchart-complete:disabled:hover {\n",
              "    background-color: var(--disabled-bg-color);\n",
              "    fill: var(--disabled-fill-color);\n",
              "    box-shadow: none;\n",
              "  }\n",
              "\n",
              "  .colab-df-spinner {\n",
              "    border: 2px solid var(--fill-color);\n",
              "    border-color: transparent;\n",
              "    border-bottom-color: var(--fill-color);\n",
              "    animation:\n",
              "      spin 1s steps(1) infinite;\n",
              "  }\n",
              "\n",
              "  @keyframes spin {\n",
              "    0% {\n",
              "      border-color: transparent;\n",
              "      border-bottom-color: var(--fill-color);\n",
              "      border-left-color: var(--fill-color);\n",
              "    }\n",
              "    20% {\n",
              "      border-color: transparent;\n",
              "      border-left-color: var(--fill-color);\n",
              "      border-top-color: var(--fill-color);\n",
              "    }\n",
              "    30% {\n",
              "      border-color: transparent;\n",
              "      border-left-color: var(--fill-color);\n",
              "      border-top-color: var(--fill-color);\n",
              "      border-right-color: var(--fill-color);\n",
              "    }\n",
              "    40% {\n",
              "      border-color: transparent;\n",
              "      border-right-color: var(--fill-color);\n",
              "      border-top-color: var(--fill-color);\n",
              "    }\n",
              "    60% {\n",
              "      border-color: transparent;\n",
              "      border-right-color: var(--fill-color);\n",
              "    }\n",
              "    80% {\n",
              "      border-color: transparent;\n",
              "      border-right-color: var(--fill-color);\n",
              "      border-bottom-color: var(--fill-color);\n",
              "    }\n",
              "    90% {\n",
              "      border-color: transparent;\n",
              "      border-bottom-color: var(--fill-color);\n",
              "    }\n",
              "  }\n",
              "</style>\n",
              "\n",
              "  <script>\n",
              "    async function quickchart(key) {\n",
              "      const quickchartButtonEl =\n",
              "        document.querySelector('#' + key + ' button');\n",
              "      quickchartButtonEl.disabled = true;  // To prevent multiple clicks.\n",
              "      quickchartButtonEl.classList.add('colab-df-spinner');\n",
              "      try {\n",
              "        const charts = await google.colab.kernel.invokeFunction(\n",
              "            'suggestCharts', [key], {});\n",
              "      } catch (error) {\n",
              "        console.error('Error during call to suggestCharts:', error);\n",
              "      }\n",
              "      quickchartButtonEl.classList.remove('colab-df-spinner');\n",
              "      quickchartButtonEl.classList.add('colab-df-quickchart-complete');\n",
              "    }\n",
              "    (() => {\n",
              "      let quickchartButtonEl =\n",
              "        document.querySelector('#df-85242b9a-7d5f-4539-9e21-a19616329657 button');\n",
              "      quickchartButtonEl.style.display =\n",
              "        google.colab.kernel.accessAllowed ? 'block' : 'none';\n",
              "    })();\n",
              "  </script>\n",
              "</div>\n",
              "\n",
              "    </div>\n",
              "  </div>\n"
            ],
            "application/vnd.google.colaboratory.intrinsic+json": {
              "type": "dataframe",
              "variable_name": "df_train",
              "summary": "{\n  \"name\": \"df_train\",\n  \"rows\": 60000,\n  \"fields\": [\n    {\n      \"column\": \"image\",\n      \"properties\": {\n        \"dtype\": \"object\",\n        \"semantic_type\": \"\",\n        \"description\": \"\"\n      }\n    },\n    {\n      \"column\": \"label\",\n      \"properties\": {\n        \"dtype\": \"category\",\n        \"num_unique_values\": 10,\n        \"samples\": [\n          \"8\",\n          \"1\",\n          \"5\"\n        ],\n        \"semantic_type\": \"\",\n        \"description\": \"\"\n      }\n    }\n  ]\n}"
            }
          },
          "metadata": {},
          "execution_count": 77
        }
      ]
    },
    {
      "cell_type": "code",
      "source": [
        "X = df_train['image']\n",
        "y = df_train['label']\n",
        "\n",
        "X_train, X_val, y_train, y_val = train_test_split(X, y, test_size=0.2, random_state=42)"
      ],
      "metadata": {
        "id": "3KFnBngCaxg0"
      },
      "execution_count": 95,
      "outputs": []
    },
    {
      "cell_type": "code",
      "source": [
        "print(X_train.shape, y_train.shape)"
      ],
      "metadata": {
        "colab": {
          "base_uri": "https://localhost:8080/"
        },
        "id": "vsl30gAua1Fl",
        "outputId": "73202474-64b5-4b44-c341-8d3ba881411d"
      },
      "execution_count": 96,
      "outputs": [
        {
          "output_type": "stream",
          "name": "stdout",
          "text": [
            "(48000,) (48000,)\n"
          ]
        }
      ]
    },
    {
      "cell_type": "code",
      "source": [
        "print(X_val.shape, y_val.shape)"
      ],
      "metadata": {
        "colab": {
          "base_uri": "https://localhost:8080/"
        },
        "id": "Vhuow4f9byI1",
        "outputId": "bde995a3-9e2b-45ff-aa44-9eb3ec6f51a0"
      },
      "execution_count": 97,
      "outputs": [
        {
          "output_type": "stream",
          "name": "stdout",
          "text": [
            "(12000,) (12000,)\n"
          ]
        }
      ]
    },
    {
      "cell_type": "code",
      "source": [
        "X_train = np.array([np.array(image) for image in X_train])\n",
        "X_val = np.array([np.array(image) for image in X_val])"
      ],
      "metadata": {
        "id": "LNGzutsQb7o-"
      },
      "execution_count": 98,
      "outputs": []
    },
    {
      "cell_type": "code",
      "source": [
        "y_train = to_categorical(y_train, num_classes=10)\n",
        "y_val = to_categorical(y_val, num_classes=10)"
      ],
      "metadata": {
        "id": "pwrDZiLEgQJB"
      },
      "execution_count": 102,
      "outputs": []
    },
    {
      "cell_type": "code",
      "source": [
        "print(X_train.shape, y_train.shape)"
      ],
      "metadata": {
        "colab": {
          "base_uri": "https://localhost:8080/"
        },
        "id": "FnlEj8wqfgw_",
        "outputId": "dd9aa929-33e3-444b-8542-800a816a813e"
      },
      "execution_count": 103,
      "outputs": [
        {
          "output_type": "stream",
          "name": "stdout",
          "text": [
            "(48000, 28, 28) (48000, 10)\n"
          ]
        }
      ]
    },
    {
      "cell_type": "code",
      "source": [
        "print(X_val.shape, y_val.shape)"
      ],
      "metadata": {
        "colab": {
          "base_uri": "https://localhost:8080/"
        },
        "id": "tGaouLkRf8-I",
        "outputId": "402b9faf-a1c7-438b-fc0f-c988c0515688"
      },
      "execution_count": 104,
      "outputs": [
        {
          "output_type": "stream",
          "name": "stdout",
          "text": [
            "(12000, 28, 28) (12000, 10)\n"
          ]
        }
      ]
    },
    {
      "cell_type": "markdown",
      "source": [
        "## Modelagem\n"
      ],
      "metadata": {
        "id": "jWubZ8RNgrEL"
      }
    },
    {
      "cell_type": "code",
      "source": [
        "model = Sequential()\n",
        "\n",
        "model.add(Conv2D(filters=32, kernel_size=(5,5), activation='relu', input_shape=(28,28,1)))\n",
        "model.add(MaxPool2D(pool_size=(2,2)))\n",
        "\n",
        "model.add(Conv2D(filters=64, kernel_size=(5,5), activation='relu', input_shape=(28,28,1)))\n",
        "model.add(MaxPool2D(pool_size=(2,2)))\n",
        "\n",
        "\n",
        "model.add(Flatten())\n",
        "\n",
        "model.add(Dense(256, activation='relu'))\n",
        "\n",
        "model.add(Dropout(0.5))\n",
        "\n",
        "model.add(Dense(units = 10, activation='softmax'))\n"
      ],
      "metadata": {
        "colab": {
          "base_uri": "https://localhost:8080/"
        },
        "id": "JWS6hdaDgrr_",
        "outputId": "a2a07795-02fc-4846-a740-8c1d5f7c0efe"
      },
      "execution_count": 111,
      "outputs": [
        {
          "output_type": "stream",
          "name": "stderr",
          "text": [
            "/usr/local/lib/python3.10/dist-packages/keras/src/layers/convolutional/base_conv.py:107: UserWarning: Do not pass an `input_shape`/`input_dim` argument to a layer. When using Sequential models, prefer using an `Input(shape)` object as the first layer in the model instead.\n",
            "  super().__init__(activity_regularizer=activity_regularizer, **kwargs)\n"
          ]
        }
      ]
    },
    {
      "cell_type": "code",
      "source": [
        "model.summary()"
      ],
      "metadata": {
        "colab": {
          "base_uri": "https://localhost:8080/",
          "height": 385
        },
        "id": "PFC2RcBcg7zY",
        "outputId": "7ab857dc-1aec-437e-cf6b-5955ac54b310"
      },
      "execution_count": 112,
      "outputs": [
        {
          "output_type": "display_data",
          "data": {
            "text/plain": [
              "\u001b[1mModel: \"sequential_5\"\u001b[0m\n"
            ],
            "text/html": [
              "<pre style=\"white-space:pre;overflow-x:auto;line-height:normal;font-family:Menlo,'DejaVu Sans Mono',consolas,'Courier New',monospace\"><span style=\"font-weight: bold\">Model: \"sequential_5\"</span>\n",
              "</pre>\n"
            ]
          },
          "metadata": {}
        },
        {
          "output_type": "display_data",
          "data": {
            "text/plain": [
              "┏━━━━━━━━━━━━━━━━━━━━━━━━━━━━━━━━━━━━━━┳━━━━━━━━━━━━━━━━━━━━━━━━━━━━━┳━━━━━━━━━━━━━━━━━┓\n",
              "┃\u001b[1m \u001b[0m\u001b[1mLayer (type)                        \u001b[0m\u001b[1m \u001b[0m┃\u001b[1m \u001b[0m\u001b[1mOutput Shape               \u001b[0m\u001b[1m \u001b[0m┃\u001b[1m \u001b[0m\u001b[1m        Param #\u001b[0m\u001b[1m \u001b[0m┃\n",
              "┡━━━━━━━━━━━━━━━━━━━━━━━━━━━━━━━━━━━━━━╇━━━━━━━━━━━━━━━━━━━━━━━━━━━━━╇━━━━━━━━━━━━━━━━━┩\n",
              "│ conv2d_5 (\u001b[38;5;33mConv2D\u001b[0m)                    │ (\u001b[38;5;45mNone\u001b[0m, \u001b[38;5;34m24\u001b[0m, \u001b[38;5;34m24\u001b[0m, \u001b[38;5;34m32\u001b[0m)          │             \u001b[38;5;34m832\u001b[0m │\n",
              "├──────────────────────────────────────┼─────────────────────────────┼─────────────────┤\n",
              "│ max_pooling2d (\u001b[38;5;33mMaxPooling2D\u001b[0m)         │ (\u001b[38;5;45mNone\u001b[0m, \u001b[38;5;34m12\u001b[0m, \u001b[38;5;34m12\u001b[0m, \u001b[38;5;34m32\u001b[0m)          │               \u001b[38;5;34m0\u001b[0m │\n",
              "├──────────────────────────────────────┼─────────────────────────────┼─────────────────┤\n",
              "│ conv2d_6 (\u001b[38;5;33mConv2D\u001b[0m)                    │ (\u001b[38;5;45mNone\u001b[0m, \u001b[38;5;34m8\u001b[0m, \u001b[38;5;34m8\u001b[0m, \u001b[38;5;34m64\u001b[0m)            │          \u001b[38;5;34m51,264\u001b[0m │\n",
              "├──────────────────────────────────────┼─────────────────────────────┼─────────────────┤\n",
              "│ max_pooling2d_1 (\u001b[38;5;33mMaxPooling2D\u001b[0m)       │ (\u001b[38;5;45mNone\u001b[0m, \u001b[38;5;34m4\u001b[0m, \u001b[38;5;34m4\u001b[0m, \u001b[38;5;34m64\u001b[0m)            │               \u001b[38;5;34m0\u001b[0m │\n",
              "├──────────────────────────────────────┼─────────────────────────────┼─────────────────┤\n",
              "│ flatten (\u001b[38;5;33mFlatten\u001b[0m)                    │ (\u001b[38;5;45mNone\u001b[0m, \u001b[38;5;34m1024\u001b[0m)                │               \u001b[38;5;34m0\u001b[0m │\n",
              "├──────────────────────────────────────┼─────────────────────────────┼─────────────────┤\n",
              "│ dense (\u001b[38;5;33mDense\u001b[0m)                        │ (\u001b[38;5;45mNone\u001b[0m, \u001b[38;5;34m256\u001b[0m)                 │         \u001b[38;5;34m262,400\u001b[0m │\n",
              "├──────────────────────────────────────┼─────────────────────────────┼─────────────────┤\n",
              "│ dropout (\u001b[38;5;33mDropout\u001b[0m)                    │ (\u001b[38;5;45mNone\u001b[0m, \u001b[38;5;34m256\u001b[0m)                 │               \u001b[38;5;34m0\u001b[0m │\n",
              "├──────────────────────────────────────┼─────────────────────────────┼─────────────────┤\n",
              "│ dense_1 (\u001b[38;5;33mDense\u001b[0m)                      │ (\u001b[38;5;45mNone\u001b[0m, \u001b[38;5;34m10\u001b[0m)                  │           \u001b[38;5;34m2,570\u001b[0m │\n",
              "└──────────────────────────────────────┴─────────────────────────────┴─────────────────┘\n"
            ],
            "text/html": [
              "<pre style=\"white-space:pre;overflow-x:auto;line-height:normal;font-family:Menlo,'DejaVu Sans Mono',consolas,'Courier New',monospace\">┏━━━━━━━━━━━━━━━━━━━━━━━━━━━━━━━━━━━━━━┳━━━━━━━━━━━━━━━━━━━━━━━━━━━━━┳━━━━━━━━━━━━━━━━━┓\n",
              "┃<span style=\"font-weight: bold\"> Layer (type)                         </span>┃<span style=\"font-weight: bold\"> Output Shape                </span>┃<span style=\"font-weight: bold\">         Param # </span>┃\n",
              "┡━━━━━━━━━━━━━━━━━━━━━━━━━━━━━━━━━━━━━━╇━━━━━━━━━━━━━━━━━━━━━━━━━━━━━╇━━━━━━━━━━━━━━━━━┩\n",
              "│ conv2d_5 (<span style=\"color: #0087ff; text-decoration-color: #0087ff\">Conv2D</span>)                    │ (<span style=\"color: #00d7ff; text-decoration-color: #00d7ff\">None</span>, <span style=\"color: #00af00; text-decoration-color: #00af00\">24</span>, <span style=\"color: #00af00; text-decoration-color: #00af00\">24</span>, <span style=\"color: #00af00; text-decoration-color: #00af00\">32</span>)          │             <span style=\"color: #00af00; text-decoration-color: #00af00\">832</span> │\n",
              "├──────────────────────────────────────┼─────────────────────────────┼─────────────────┤\n",
              "│ max_pooling2d (<span style=\"color: #0087ff; text-decoration-color: #0087ff\">MaxPooling2D</span>)         │ (<span style=\"color: #00d7ff; text-decoration-color: #00d7ff\">None</span>, <span style=\"color: #00af00; text-decoration-color: #00af00\">12</span>, <span style=\"color: #00af00; text-decoration-color: #00af00\">12</span>, <span style=\"color: #00af00; text-decoration-color: #00af00\">32</span>)          │               <span style=\"color: #00af00; text-decoration-color: #00af00\">0</span> │\n",
              "├──────────────────────────────────────┼─────────────────────────────┼─────────────────┤\n",
              "│ conv2d_6 (<span style=\"color: #0087ff; text-decoration-color: #0087ff\">Conv2D</span>)                    │ (<span style=\"color: #00d7ff; text-decoration-color: #00d7ff\">None</span>, <span style=\"color: #00af00; text-decoration-color: #00af00\">8</span>, <span style=\"color: #00af00; text-decoration-color: #00af00\">8</span>, <span style=\"color: #00af00; text-decoration-color: #00af00\">64</span>)            │          <span style=\"color: #00af00; text-decoration-color: #00af00\">51,264</span> │\n",
              "├──────────────────────────────────────┼─────────────────────────────┼─────────────────┤\n",
              "│ max_pooling2d_1 (<span style=\"color: #0087ff; text-decoration-color: #0087ff\">MaxPooling2D</span>)       │ (<span style=\"color: #00d7ff; text-decoration-color: #00d7ff\">None</span>, <span style=\"color: #00af00; text-decoration-color: #00af00\">4</span>, <span style=\"color: #00af00; text-decoration-color: #00af00\">4</span>, <span style=\"color: #00af00; text-decoration-color: #00af00\">64</span>)            │               <span style=\"color: #00af00; text-decoration-color: #00af00\">0</span> │\n",
              "├──────────────────────────────────────┼─────────────────────────────┼─────────────────┤\n",
              "│ flatten (<span style=\"color: #0087ff; text-decoration-color: #0087ff\">Flatten</span>)                    │ (<span style=\"color: #00d7ff; text-decoration-color: #00d7ff\">None</span>, <span style=\"color: #00af00; text-decoration-color: #00af00\">1024</span>)                │               <span style=\"color: #00af00; text-decoration-color: #00af00\">0</span> │\n",
              "├──────────────────────────────────────┼─────────────────────────────┼─────────────────┤\n",
              "│ dense (<span style=\"color: #0087ff; text-decoration-color: #0087ff\">Dense</span>)                        │ (<span style=\"color: #00d7ff; text-decoration-color: #00d7ff\">None</span>, <span style=\"color: #00af00; text-decoration-color: #00af00\">256</span>)                 │         <span style=\"color: #00af00; text-decoration-color: #00af00\">262,400</span> │\n",
              "├──────────────────────────────────────┼─────────────────────────────┼─────────────────┤\n",
              "│ dropout (<span style=\"color: #0087ff; text-decoration-color: #0087ff\">Dropout</span>)                    │ (<span style=\"color: #00d7ff; text-decoration-color: #00d7ff\">None</span>, <span style=\"color: #00af00; text-decoration-color: #00af00\">256</span>)                 │               <span style=\"color: #00af00; text-decoration-color: #00af00\">0</span> │\n",
              "├──────────────────────────────────────┼─────────────────────────────┼─────────────────┤\n",
              "│ dense_1 (<span style=\"color: #0087ff; text-decoration-color: #0087ff\">Dense</span>)                      │ (<span style=\"color: #00d7ff; text-decoration-color: #00d7ff\">None</span>, <span style=\"color: #00af00; text-decoration-color: #00af00\">10</span>)                  │           <span style=\"color: #00af00; text-decoration-color: #00af00\">2,570</span> │\n",
              "└──────────────────────────────────────┴─────────────────────────────┴─────────────────┘\n",
              "</pre>\n"
            ]
          },
          "metadata": {}
        },
        {
          "output_type": "display_data",
          "data": {
            "text/plain": [
              "\u001b[1m Total params: \u001b[0m\u001b[38;5;34m317,066\u001b[0m (1.21 MB)\n"
            ],
            "text/html": [
              "<pre style=\"white-space:pre;overflow-x:auto;line-height:normal;font-family:Menlo,'DejaVu Sans Mono',consolas,'Courier New',monospace\"><span style=\"font-weight: bold\"> Total params: </span><span style=\"color: #00af00; text-decoration-color: #00af00\">317,066</span> (1.21 MB)\n",
              "</pre>\n"
            ]
          },
          "metadata": {}
        },
        {
          "output_type": "display_data",
          "data": {
            "text/plain": [
              "\u001b[1m Trainable params: \u001b[0m\u001b[38;5;34m317,066\u001b[0m (1.21 MB)\n"
            ],
            "text/html": [
              "<pre style=\"white-space:pre;overflow-x:auto;line-height:normal;font-family:Menlo,'DejaVu Sans Mono',consolas,'Courier New',monospace\"><span style=\"font-weight: bold\"> Trainable params: </span><span style=\"color: #00af00; text-decoration-color: #00af00\">317,066</span> (1.21 MB)\n",
              "</pre>\n"
            ]
          },
          "metadata": {}
        },
        {
          "output_type": "display_data",
          "data": {
            "text/plain": [
              "\u001b[1m Non-trainable params: \u001b[0m\u001b[38;5;34m0\u001b[0m (0.00 B)\n"
            ],
            "text/html": [
              "<pre style=\"white-space:pre;overflow-x:auto;line-height:normal;font-family:Menlo,'DejaVu Sans Mono',consolas,'Courier New',monospace\"><span style=\"font-weight: bold\"> Non-trainable params: </span><span style=\"color: #00af00; text-decoration-color: #00af00\">0</span> (0.00 B)\n",
              "</pre>\n"
            ]
          },
          "metadata": {}
        }
      ]
    },
    {
      "cell_type": "code",
      "source": [
        "model.compile(optimizer = 'Adam', loss = 'categorical_crossentropy', metrics = ['accuracy'])"
      ],
      "metadata": {
        "id": "qMEDFcW-k4CA"
      },
      "execution_count": 115,
      "outputs": []
    },
    {
      "cell_type": "code",
      "source": [
        "history = model.fit(X_train, y_train, epochs=3, validation_data=(X_val, y_val))"
      ],
      "metadata": {
        "colab": {
          "base_uri": "https://localhost:8080/"
        },
        "id": "iOE5FXlRleOo",
        "outputId": "0e4dbf8c-eb57-4eda-adc1-41e556477e73"
      },
      "execution_count": 118,
      "outputs": [
        {
          "output_type": "stream",
          "name": "stdout",
          "text": [
            "Epoch 1/3\n",
            "\u001b[1m1500/1500\u001b[0m \u001b[32m━━━━━━━━━━━━━━━━━━━━\u001b[0m\u001b[37m\u001b[0m \u001b[1m87s\u001b[0m 58ms/step - accuracy: 0.9782 - loss: 0.0764 - val_accuracy: 0.9844 - val_loss: 0.0635\n",
            "Epoch 2/3\n",
            "\u001b[1m1500/1500\u001b[0m \u001b[32m━━━━━━━━━━━━━━━━━━━━\u001b[0m\u001b[37m\u001b[0m \u001b[1m131s\u001b[0m 50ms/step - accuracy: 0.9798 - loss: 0.0751 - val_accuracy: 0.9847 - val_loss: 0.0692\n",
            "Epoch 3/3\n",
            "\u001b[1m1500/1500\u001b[0m \u001b[32m━━━━━━━━━━━━━━━━━━━━\u001b[0m\u001b[37m\u001b[0m \u001b[1m73s\u001b[0m 49ms/step - accuracy: 0.9801 - loss: 0.0726 - val_accuracy: 0.9852 - val_loss: 0.0574\n"
          ]
        }
      ]
    },
    {
      "cell_type": "code",
      "source": [
        "def plotLearningCurve(history, epochs):\n",
        "  epoch_range = range(1, epochs+1)\n",
        "  plt.plot(epoch_range, history.history['accuracy'])\n",
        "  plt.plot(epoch_range, history.history['val_accuracy'])\n",
        "  plt.title('Model Accuracy')\n",
        "  plt.ylabel('Accuracy')\n",
        "  plt.xlabel('Epoch')\n",
        "  plt.show()\n",
        "\n",
        "  epoch_range = range(1, epochs+1)\n",
        "  plt.plot(epoch_range, history.history['loss'])\n",
        "  plt.plot(epoch_range, history.history['val_loss'])\n",
        "  plt.title('Model Loss')\n",
        "  plt.ylabel('Loss')\n",
        "  plt.xlabel('Epoch')\n",
        "  plt.show()"
      ],
      "metadata": {
        "id": "4omXk6vWlm_i"
      },
      "execution_count": 119,
      "outputs": []
    },
    {
      "cell_type": "code",
      "source": [
        "plotLearningCurve(history, 3)"
      ],
      "metadata": {
        "id": "Haf__rH8tGn5",
        "outputId": "8592beca-0c4d-4368-9fa7-ce64316fc5fd",
        "colab": {
          "base_uri": "https://localhost:8080/",
          "height": 927
        }
      },
      "execution_count": 120,
      "outputs": [
        {
          "output_type": "display_data",
          "data": {
            "text/plain": [
              "<Figure size 640x480 with 1 Axes>"
            ],
            "image/png": "[encoded data removed]"
          },
          "metadata": {}
        },
        {
          "output_type": "display_data",
          "data": {
            "text/plain": [
              "<Figure size 640x480 with 1 Axes>"
            ],
            "image/png": "[encoded data removed]"
          },
          "metadata": {}
        }
      ]
    },
    {
      "cell_type": "code",
      "source": [
        "y_pred = model.predict(X_val)\n",
        "y_pred_classes = np.argmax(y_pred, axis=1)\n",
        "y_true = np.argmax(y_val, axis=1)"
      ],
      "metadata": {
        "id": "4x8Ftl-ltTnh",
        "outputId": "d1f225a4-bb57-4268-e86c-103c260f6a04",
        "colab": {
          "base_uri": "https://localhost:8080/"
        }
      },
      "execution_count": 123,
      "outputs": [
        {
          "output_type": "stream",
          "name": "stdout",
          "text": [
            "\u001b[1m375/375\u001b[0m \u001b[32m━━━━━━━━━━━━━━━━━━━━\u001b[0m\u001b[37m\u001b[0m \u001b[1m6s\u001b[0m 16ms/step\n"
          ]
        }
      ]
    },
    {
      "cell_type": "code",
      "source": [
        "matriz = confusion_matrix(y_true, y_pred_classes)\n",
        "matriz"
      ],
      "metadata": {
        "id": "WGRcBCsdtdQt",
        "outputId": "9621558f-847c-4398-9a00-35f99b337e2d",
        "colab": {
          "base_uri": "https://localhost:8080/"
        }
      },
      "execution_count": 124,
      "outputs": [
        {
          "output_type": "execute_result",
          "data": {
            "text/plain": [
              "array([[1172,    0,    2,    0,    0,    0,    5,    0,    0,    2],\n",
              "       [   3, 1334,    3,    0,    1,    0,    0,    5,    3,    1],\n",
              "       [   1,    2, 1145,    7,    0,    0,    0,    4,    3,    0],\n",
              "       [   0,    0,    1, 1197,    0,    3,    0,    0,    1,    1],\n",
              "       [   2,    2,    0,    1, 1106,    0,    1,    2,    0,   10],\n",
              "       [   2,    1,    0,   18,    0, 1083,    5,    3,    3,    1],\n",
              "       [   1,    0,    1,    1,    0,    4, 1212,    0,    2,    0],\n",
              "       [   3,    4,    5,    1,    2,    0,    0, 1233,    1,    0],\n",
              "       [   4,    4,    1,    5,    0,    3,    3,    2, 1184,    4],\n",
              "       [   9,    0,    0,    4,    3,    1,    0,    9,    2, 1156]])"
            ]
          },
          "metadata": {},
          "execution_count": 124
        }
      ]
    },
    {
      "cell_type": "code",
      "source": [],
      "metadata": {
        "id": "x5BmvIzrti92"
      },
      "execution_count": null,
      "outputs": []
    }
  ]
}